{
 "cells": [
  {
   "cell_type": "markdown",
   "id": "c5fed550",
   "metadata": {},
   "source": [
    "# VQE of a spin-1/2 XXZ model with a particle-number conserving circuit ansatz "
   ]
  },
  {
   "cell_type": "code",
   "execution_count": null,
   "id": "62ef6c85",
   "metadata": {},
   "outputs": [],
   "source": [
    "# necessary libraries and modules\n",
    "from Ansatzes_Hamiltonians_class import AnsatzCircuit\n",
    "from Ansatzes_Hamiltonians_class import XXZ\n",
    "from qiskit.quantum_info import SparsePauliOp\n",
    "import numpy as np\n",
    "from qiskit.circuit import ParameterVector\n",
    "from qiskit.primitives import StatevectorEstimator\n",
    "from scipy.optimize import minimize "
   ]
  },
  {
   "cell_type": "code",
   "execution_count": null,
   "id": "f09097f0",
   "metadata": {},
   "outputs": [],
   "source": [
    "# simulation parameters\n",
    "num_sites = 4\n",
    "gate_class = \"A\"\n",
    "entangle_initial_state = \"no\"\n",
    "num_params_per_gate = 2\n",
    "num_trials = 10  \n",
    "num_opt_steps = 100\n",
    "spin_model = \"XXZ\"   # list = [\"XXZ\", \"XY\"]\n",
    "circ_type = \"BWC\"  # list = [\"BWC\", \"LC\"]; Brick-wall circuit (BWC) or linear circuit (LC)"
   ]
  },
  {
   "cell_type": "code",
   "execution_count": null,
   "id": "866e74b6",
   "metadata": {},
   "outputs": [],
   "source": [
    "# define the quantum circuit\n",
    "def build_circuit(num_sites, gate_class=\"A\", entangle_initial_state=\"no\", circ_type='BWC', num_params_per_gate=2):\n",
    "\n",
    "    global num_params\n",
    "    \n",
    "    num_particles = num_sites // 2  # since we are using a number-conserved ansatz, XXZ corresponds to half-filling\n",
    "     \n",
    "    qc = AnsatzCircuit(\n",
    "        num_particles,\n",
    "        num_sites,\n",
    "        num_params_per_gate,\n",
    "        gate_class,\n",
    "        entangle_initial_state, \n",
    "        circ_type  \n",
    "    )\n",
    "    \n",
    "    if (qc.dim_subspace < 10):\n",
    "        print(\"The quantum circuit: \")\n",
    "        print(qc.draw())\n",
    "    \n",
    "    num_params = qc.num_parameters\n",
    "    \n",
    "    # decompose circuit before running\n",
    "    qc_elem = qc.decompose().decompose() \n",
    "\n",
    "    return  qc_elem"
   ]
  },
  {
   "cell_type": "code",
   "execution_count": null,
   "id": "fe67a5c7",
   "metadata": {},
   "outputs": [],
   "source": [
    "# Define the model Hamiltonian\n",
    "def get_Hamiltonian(num_sites, spin_model):\n",
    "    global ref_value \n",
    "\n",
    "    if spin_model == \"XXZ\":\n",
    "        amp = 1\n",
    "        H_obj = XXZ(num_sites, amp)                \n",
    "    elif spin_model == \"XY\":        \n",
    "        amp = 0\n",
    "        H_obj = XXZ(num_sites, amp)   # XY = XXZ if ZZ term is turned off\n",
    "\n",
    "    H = H_obj.Hamiltonian()\n",
    "    H_op = SparsePauliOp.from_list(H)\n",
    "\n",
    "    # get the reference ground state energy for small system sizes\n",
    "    ref_value = H_obj.get_minimum_eigenvalue(H_op.to_matrix())\n",
    "    print(f\"\\n Exact ground state energy: {ref_value}\")\n",
    "    \n",
    "    return H_op"
   ]
  },
  {
   "cell_type": "code",
   "execution_count": null,
   "id": "afce329b",
   "metadata": {},
   "outputs": [],
   "source": [
    "def cost_func(params, ansatz, hamiltonian, estimator):\n",
    "    \"\"\"Return estimate of energy from estimator\n",
    "\n",
    "    Parameters:\n",
    "        params (ndarray): Array of ansatz parameters\n",
    "        ansatz (QuantumCircuit): Parameterized ansatz circuit\n",
    "        hamiltonian (SparsePauliOp): Operator representation of Hamiltonian\n",
    "        estimator (EstimatorV2): Estimator primitive instance\n",
    "        cost_history_dict: Dictionary for storing intermediate results\n",
    "\n",
    "    Returns:\n",
    "        float: Energy estimate\n",
    "    \"\"\"\n",
    "            \n",
    "    # create a list of pubs to evaluate, where each pub = (ansatz, hamiltonian, params)    \n",
    "    pubs = []\n",
    "    for j in range(len(hamiltonian)):\n",
    "        hamiltonian_term = hamiltonian[j]\n",
    "        qc_copy = ansatz.copy()\n",
    "        pubs.append((qc_copy, hamiltonian_term, params))\n",
    "\n",
    "    # run all the pubs job\n",
    "    job = estimator.run(pubs)\n",
    "    result = job.result()   # a blocking call, will wait until the job completes\n",
    "    energy_list = [result[k].data.evs for k in range(len(result))]\n",
    "    energy = np.sum(energy_list)\n",
    "\n",
    "    #job_id = job.job_id()\n",
    "\n",
    "    cost_history_dict[\"iters\"] += 1\n",
    "    cost_history_dict[\"param_vector\"].append(params)\n",
    "    cost_history_dict[\"cost_history\"].append(energy)\n",
    "    \n",
    "    print(f\"Iters. done: {cost_history_dict['iters']} [Current cost: {energy}]\")\n",
    "\n",
    "    return energy"
   ]
  },
  {
   "cell_type": "code",
   "execution_count": null,
   "id": "c56b431a",
   "metadata": {},
   "outputs": [],
   "source": [
    "cost_history_dict = {\n",
    "    \"param_vector\": [],\n",
    "    \"iters\": -1,\n",
    "    \"cost_history\": [],\n",
    "    \"std_history\": [],\n",
    "    \"job_ids\" : []\n",
    "}"
   ]
  },
  {
   "cell_type": "code",
   "execution_count": null,
   "id": "9e5e0189",
   "metadata": {},
   "outputs": [],
   "source": [
    "# circuit and Hamiltonian objects\n",
    "qc = build_circuit(num_sites, gate_class, entangle_initial_state, circ_type)\n",
    "hamiltonian = get_Hamiltonian(num_sites, spin_model)"
   ]
  },
  {
   "cell_type": "code",
   "execution_count": null,
   "id": "fa527a70",
   "metadata": {},
   "outputs": [],
   "source": [
    "estimator = StatevectorEstimator()    # for simulator\n",
    "\n",
    "rng = np.random.default_rng(seed=71)\n",
    "x0 = 2 * np.pi * rng.random(qc.num_parameters)\n",
    "\n",
    "# save initial cost value\n",
    "cost_func(x0, qc, hamiltonian, estimator)\n",
    "# minimization of cost function\n",
    "res = minimize(\n",
    "    cost_func,\n",
    "    x0,\n",
    "    args=(qc, hamiltonian, estimator),\n",
    "    method=\"cobyla\",\n",
    "    tol=10**-8,\n",
    "    #options={\"maxiter\" : max_iter, \"disp\" : False}\n",
    ")"
   ]
  },
  {
   "cell_type": "code",
   "execution_count": null,
   "id": "2f2d0d0e",
   "metadata": {},
   "outputs": [],
   "source": [
    "res"
   ]
  },
  {
   "cell_type": "code",
   "execution_count": null,
   "id": "1468d0cf",
   "metadata": {},
   "outputs": [],
   "source": [
    "print(f\"\\n Final estimated ground state energy: {res.fun}\")\n",
    "print(f\" Relative error: {abs((res.fun - ref_value)/ref_value)}\")"
   ]
  }
 ],
 "metadata": {
  "kernelspec": {
   "display_name": "qiskit_env",
   "language": "python",
   "name": "python3"
  },
  "language_info": {
   "codemirror_mode": {
    "name": "ipython",
    "version": 3
   },
   "file_extension": ".py",
   "mimetype": "text/x-python",
   "name": "python",
   "nbconvert_exporter": "python",
   "pygments_lexer": "ipython3",
   "version": "3.12.4"
  }
 },
 "nbformat": 4,
 "nbformat_minor": 5
}
